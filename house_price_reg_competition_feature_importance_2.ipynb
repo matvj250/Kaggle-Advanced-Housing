{
 "cells": [
  {
   "cell_type": "markdown",
   "metadata": {},
   "source": [
    "9/24-9/26\n",
    "\n",
    "This is more code for the Kaggle Ames, Iowa Housing Prices Competition. Last time, I tried to prune some features and make my own. With a normal linear regression model, this led to a horrible test error of 0.6. Obviously, pruning some features isn't the right move. Now I'm only going to make features, and only delete the features that I make my features from, and then use LASSO. Maybe some form of boosting if I want to improve my results further."
   ]
  },
  {
   "cell_type": "code",
   "execution_count": 1,
   "metadata": {},
   "outputs": [
    {
     "data": {
      "text/plain": [
       "'English_United States.1252'"
      ]
     },
     "execution_count": 1,
     "metadata": {},
     "output_type": "execute_result"
    }
   ],
   "source": [
    "from sklearn.impute import SimpleImputer\n",
    "from sklearn.preprocessing import OneHotEncoder, FunctionTransformer, StandardScaler, OrdinalEncoder, LabelEncoder\n",
    "from sklearn.pipeline import Pipeline, make_pipeline\n",
    "from sklearn.compose import ColumnTransformer, make_column_selector\n",
    "from sklearn.metrics import mean_squared_error\n",
    "from sklearn.linear_model import Lasso, LassoCV, ElasticNetCV\n",
    "from sklearn.tree import DecisionTreeClassifier\n",
    "from sklearn.model_selection import cross_val_score, learning_curve, RandomizedSearchCV\n",
    "from sklearn.ensemble import GradientBoostingRegressor, RandomForestRegressor\n",
    "\n",
    "import pandas as pd\n",
    "import numpy as np\n",
    "import csv\n",
    "import matplotlib.pyplot as plt\n",
    "import locale\n",
    "from scipy.stats import randint\n",
    "locale.setlocale( locale.LC_ALL, '' )"
   ]
  },
  {
   "cell_type": "code",
   "execution_count": 2,
   "metadata": {},
   "outputs": [
    {
     "name": "stdout",
     "output_type": "stream",
     "text": [
      "<class 'pandas.core.frame.DataFrame'>\n",
      "RangeIndex: 1460 entries, 0 to 1459\n",
      "Data columns (total 81 columns):\n",
      " #   Column         Non-Null Count  Dtype  \n",
      "---  ------         --------------  -----  \n",
      " 0   Id             1460 non-null   int64  \n",
      " 1   MSSubClass     1460 non-null   int64  \n",
      " 2   MSZoning       1460 non-null   object \n",
      " 3   LotFrontage    1201 non-null   float64\n",
      " 4   LotArea        1460 non-null   int64  \n",
      " 5   Street         1460 non-null   object \n",
      " 6   Alley          91 non-null     object \n",
      " 7   LotShape       1460 non-null   object \n",
      " 8   LandContour    1460 non-null   object \n",
      " 9   Utilities      1460 non-null   object \n",
      " 10  LotConfig      1460 non-null   object \n",
      " 11  LandSlope      1460 non-null   object \n",
      " 12  Neighborhood   1460 non-null   object \n",
      " 13  Condition1     1460 non-null   object \n",
      " 14  Condition2     1460 non-null   object \n",
      " 15  BldgType       1460 non-null   object \n",
      " 16  HouseStyle     1460 non-null   object \n",
      " 17  OverallQual    1460 non-null   int64  \n",
      " 18  OverallCond    1460 non-null   int64  \n",
      " 19  YearBuilt      1460 non-null   int64  \n",
      " 20  YearRemodAdd   1460 non-null   int64  \n",
      " 21  RoofStyle      1460 non-null   object \n",
      " 22  RoofMatl       1460 non-null   object \n",
      " 23  Exterior1st    1460 non-null   object \n",
      " 24  Exterior2nd    1460 non-null   object \n",
      " 25  MasVnrType     1452 non-null   object \n",
      " 26  MasVnrArea     1452 non-null   float64\n",
      " 27  ExterQual      1460 non-null   object \n",
      " 28  ExterCond      1460 non-null   object \n",
      " 29  Foundation     1460 non-null   object \n",
      " 30  BsmtQual       1423 non-null   object \n",
      " 31  BsmtCond       1423 non-null   object \n",
      " 32  BsmtExposure   1422 non-null   object \n",
      " 33  BsmtFinType1   1423 non-null   object \n",
      " 34  BsmtFinSF1     1460 non-null   int64  \n",
      " 35  BsmtFinType2   1422 non-null   object \n",
      " 36  BsmtFinSF2     1460 non-null   int64  \n",
      " 37  BsmtUnfSF      1460 non-null   int64  \n",
      " 38  TotalBsmtSF    1460 non-null   int64  \n",
      " 39  Heating        1460 non-null   object \n",
      " 40  HeatingQC      1460 non-null   object \n",
      " 41  CentralAir     1460 non-null   object \n",
      " 42  Electrical     1459 non-null   object \n",
      " 43  1stFlrSF       1460 non-null   int64  \n",
      " 44  2ndFlrSF       1460 non-null   int64  \n",
      " 45  LowQualFinSF   1460 non-null   int64  \n",
      " 46  GrLivArea      1460 non-null   int64  \n",
      " 47  BsmtFullBath   1460 non-null   int64  \n",
      " 48  BsmtHalfBath   1460 non-null   int64  \n",
      " 49  FullBath       1460 non-null   int64  \n",
      " 50  HalfBath       1460 non-null   int64  \n",
      " 51  BedroomAbvGr   1460 non-null   int64  \n",
      " 52  KitchenAbvGr   1460 non-null   int64  \n",
      " 53  KitchenQual    1460 non-null   object \n",
      " 54  TotRmsAbvGrd   1460 non-null   int64  \n",
      " 55  Functional     1460 non-null   object \n",
      " 56  Fireplaces     1460 non-null   int64  \n",
      " 57  FireplaceQu    770 non-null    object \n",
      " 58  GarageType     1379 non-null   object \n",
      " 59  GarageYrBlt    1379 non-null   float64\n",
      " 60  GarageFinish   1379 non-null   object \n",
      " 61  GarageCars     1460 non-null   int64  \n",
      " 62  GarageArea     1460 non-null   int64  \n",
      " 63  GarageQual     1379 non-null   object \n",
      " 64  GarageCond     1379 non-null   object \n",
      " 65  PavedDrive     1460 non-null   object \n",
      " 66  WoodDeckSF     1460 non-null   int64  \n",
      " 67  OpenPorchSF    1460 non-null   int64  \n",
      " 68  EnclosedPorch  1460 non-null   int64  \n",
      " 69  3SsnPorch      1460 non-null   int64  \n",
      " 70  ScreenPorch    1460 non-null   int64  \n",
      " 71  PoolArea       1460 non-null   int64  \n",
      " 72  PoolQC         7 non-null      object \n",
      " 73  Fence          281 non-null    object \n",
      " 74  MiscFeature    54 non-null     object \n",
      " 75  MiscVal        1460 non-null   int64  \n",
      " 76  MoSold         1460 non-null   int64  \n",
      " 77  YrSold         1460 non-null   int64  \n",
      " 78  SaleType       1460 non-null   object \n",
      " 79  SaleCondition  1460 non-null   object \n",
      " 80  SalePrice      1460 non-null   int64  \n",
      "dtypes: float64(3), int64(35), object(43)\n",
      "memory usage: 924.0+ KB\n"
     ]
    }
   ],
   "source": [
    "train_set = pd.read_csv(\"train.csv\")\n",
    "test_set = pd.read_csv(\"test.csv\")\n",
    "train_set.info()"
   ]
  },
  {
   "cell_type": "code",
   "execution_count": 3,
   "metadata": {},
   "outputs": [],
   "source": [
    "prices = pd.DataFrame(train_set[\"SalePrice\"].copy())\n",
    "nec_data = train_set.drop(\"SalePrice\", axis=1) # labels\n",
    "ids = test_set[\"Id\"].copy()"
   ]
  },
  {
   "cell_type": "code",
   "execution_count": 4,
   "metadata": {},
   "outputs": [],
   "source": [
    "# dropping features with too many null values\n",
    "nec_data = nec_data.drop(\"Alley\", axis=1)\n",
    "nec_data = nec_data.drop(\"PoolQC\", axis=1) \n",
    "nec_data = nec_data.drop(\"Fence\", axis=1)  \n",
    "nec_data = nec_data.drop(\"MiscFeature\", axis=1)\n",
    "nec_data = nec_data.drop(\"Id\", axis=1) # too individual\n",
    "\n",
    "# making new features\n",
    "nec_data[\"has_porch\"] = (nec_data[\"OpenPorchSF\"] + nec_data[\"EnclosedPorch\"] + nec_data[\"3SsnPorch\"] + nec_data[\"ScreenPorch\"] > 0)\n",
    "nec_data[\"has_deck\"] = (nec_data[\"WoodDeckSF\"] > 0)\n",
    "nec_data[\"has_pool\"] = (nec_data[\"PoolArea\"] > 0)\n",
    "nec_data[\"TotalSF\"] = nec_data[\"1stFlrSF\"] + nec_data[\"2ndFlrSF\"] + nec_data[\"TotalBsmtSF\"]\n",
    "\n",
    "# used in self-made feature\n",
    "nec_data = nec_data.drop(\"1stFlrSF\", axis=1) \n",
    "nec_data = nec_data.drop(\"2ndFlrSF\", axis=1) \n",
    "nec_data = nec_data.drop(\"TotalBsmtSF\", axis=1) \n",
    "nec_data = nec_data.drop(\"GrLivArea\", axis=1) \n",
    "\n",
    "nec_data = nec_data.drop(\"WoodDeckSF\", axis=1) \n",
    "\n",
    "nec_data = nec_data.drop(\"PoolArea\", axis=1) \n",
    "\n",
    "nec_data = nec_data.drop(\"OpenPorchSF\", axis=1) \n",
    "nec_data = nec_data.drop(\"EnclosedPorch\", axis=1) \n",
    "nec_data = nec_data.drop(\"3SsnPorch\", axis=1) \n",
    "nec_data = nec_data.drop(\"ScreenPorch\", axis=1) "
   ]
  },
  {
   "cell_type": "code",
   "execution_count": 5,
   "metadata": {},
   "outputs": [],
   "source": [
    "# grouping objects that need ordinal encoding or one-hot encoding\n",
    "ordinal_features = [\"LotShape\", \"LandSlope\", \"HeatingQC\", \"Functional\", \"BsmtFinType1\"]\n",
    "col_name_list = nec_data.columns.values.tolist()\n",
    "for name in col_name_list:\n",
    "    if name[-4:] == \"Qual\" or name[-4:] == \"Cond\":\n",
    "        ordinal_features.append(name)\n",
    "one_hot_features = np.setdiff1d(list(nec_data.select_dtypes(include=['object']).columns), ordinal_features)\n",
    "\n",
    "log_features = [\"MSSubClass\", \"LotFrontage\", \"LotArea\", \"YearBuilt\", \"TotalSF\"]"
   ]
  },
  {
   "cell_type": "code",
   "execution_count": 6,
   "metadata": {},
   "outputs": [],
   "source": [
    "def safe_log(x):\n",
    "    return np.log(x + 1e-10)\n",
    "#thanks to ChatGPT 3.5 for this function\n",
    "log_transformer = FunctionTransformer(func=safe_log, inverse_func=np.exp)\n",
    "\n",
    "num_tail_pipeline = make_pipeline(SimpleImputer(strategy=\"median\"), log_transformer, StandardScaler())\n",
    "category_pipeline = make_pipeline(SimpleImputer(strategy=\"most_frequent\"), OneHotEncoder(handle_unknown=\"ignore\"))\n",
    "ranking_pipeline = make_pipeline(SimpleImputer(strategy=\"most_frequent\"), OrdinalEncoder())\n",
    "num_norm_pipeline = make_pipeline(SimpleImputer(strategy=\"median\"), StandardScaler())\n",
    "\n",
    "preprocess = ColumnTransformer([\n",
    "    (\"tail\", num_tail_pipeline, log_features),\n",
    "    (\"category\", category_pipeline, make_column_selector(dtype_include=object))],\n",
    "    remainder=num_norm_pipeline\n",
    ")"
   ]
  },
  {
   "cell_type": "code",
   "execution_count": 7,
   "metadata": {},
   "outputs": [
    {
     "name": "stdout",
     "output_type": "stream",
     "text": [
      "Real value: $208,500.00, Prediction: $210,788.02\n",
      "Real value: $181,500.00, Prediction: $210,814.72\n",
      "Real value: $223,500.00, Prediction: $207,199.17\n",
      "Real value: $140,000.00, Prediction: $158,058.16\n",
      "Real value: $250,000.00, Prediction: $301,858.04\n",
      "Real value: $143,000.00, Prediction: $144,881.20\n",
      "Real value: $307,000.00, Prediction: $284,873.92\n",
      "Real value: $200,000.00, Prediction: $214,674.50\n",
      "Real value: $129,900.00, Prediction: $141,008.30\n",
      "Real value: $118,000.00, Prediction: $120,728.11\n"
     ]
    }
   ],
   "source": [
    "lin_reg = Pipeline([(\"pre\", preprocess), (\"reg\", Lasso(alpha=0.1, max_iter=10000, random_state=446))])\n",
    "lin_reg.fit(nec_data, prices)\n",
    "\n",
    "housing_predictions = lin_reg.predict(nec_data)\n",
    "for k in range(10):\n",
    "    print(f\"Real value: {locale.currency(prices.iloc[k].values[0], grouping=True)}, Prediction: {locale.currency(housing_predictions[k].round(2), grouping=True)}\")"
   ]
  },
  {
   "cell_type": "code",
   "execution_count": 8,
   "metadata": {},
   "outputs": [
    {
     "name": "stdout",
     "output_type": "stream",
     "text": [
      "22520.21483434068\n"
     ]
    },
    {
     "name": "stderr",
     "output_type": "stream",
     "text": [
      "c:\\Users\\user_02\\anaconda3\\lib\\site-packages\\sklearn\\linear_model\\_coordinate_descent.py:589: ConvergenceWarning: Objective did not converge. You might want to increase the number of iterations. Duality gap: 5797127029.486755, tolerance: 759214014.2531197\n",
      "  model = cd_fast.sparse_enet_coordinate_descent(\n",
      "c:\\Users\\user_02\\anaconda3\\lib\\site-packages\\sklearn\\linear_model\\_coordinate_descent.py:589: ConvergenceWarning: Objective did not converge. You might want to increase the number of iterations. Duality gap: 3782728864.4177856, tolerance: 699031751.5199751\n",
      "  model = cd_fast.sparse_enet_coordinate_descent(\n"
     ]
    },
    {
     "name": "stdout",
     "output_type": "stream",
     "text": [
      "33279.53161267178\n"
     ]
    },
    {
     "name": "stderr",
     "output_type": "stream",
     "text": [
      "c:\\Users\\user_02\\anaconda3\\lib\\site-packages\\sklearn\\linear_model\\_coordinate_descent.py:589: ConvergenceWarning: Objective did not converge. You might want to increase the number of iterations. Duality gap: 13733563214.049805, tolerance: 724930391.3116124\n",
      "  model = cd_fast.sparse_enet_coordinate_descent(\n"
     ]
    }
   ],
   "source": [
    "lin_rmse = mean_squared_error(prices, housing_predictions, squared=False)\n",
    "print(lin_rmse)\n",
    "\n",
    "rmse = -cross_val_score(lin_reg, nec_data, prices, scoring=\"neg_root_mean_squared_error\", cv=5)\n",
    "print(np.average(rmse))"
   ]
  },
  {
   "cell_type": "markdown",
   "metadata": {},
   "source": [
    "That's a pretty big difference between the train and validation accuracy, $11,000. Maybe random search and/or using elastic kit regression will help decrease that difference."
   ]
  },
  {
   "cell_type": "code",
   "execution_count": 9,
   "metadata": {},
   "outputs": [
    {
     "name": "stderr",
     "output_type": "stream",
     "text": [
      "c:\\Users\\user_02\\anaconda3\\lib\\site-packages\\sklearn\\linear_model\\_coordinate_descent.py:1563: DataConversionWarning: A column-vector y was passed when a 1d array was expected. Please change the shape of y to (n_samples, ), for example using ravel().\n",
      "  y = column_or_1d(y, warn=True)\n"
     ]
    },
    {
     "name": "stdout",
     "output_type": "stream",
     "text": [
      "25776.142402712998\n"
     ]
    },
    {
     "name": "stderr",
     "output_type": "stream",
     "text": [
      "c:\\Users\\user_02\\anaconda3\\lib\\site-packages\\sklearn\\linear_model\\_coordinate_descent.py:1563: DataConversionWarning: A column-vector y was passed when a 1d array was expected. Please change the shape of y to (n_samples, ), for example using ravel().\n",
      "  y = column_or_1d(y, warn=True)\n",
      "c:\\Users\\user_02\\anaconda3\\lib\\site-packages\\sklearn\\linear_model\\_coordinate_descent.py:1563: DataConversionWarning: A column-vector y was passed when a 1d array was expected. Please change the shape of y to (n_samples, ), for example using ravel().\n",
      "  y = column_or_1d(y, warn=True)\n",
      "c:\\Users\\user_02\\anaconda3\\lib\\site-packages\\sklearn\\linear_model\\_coordinate_descent.py:1563: DataConversionWarning: A column-vector y was passed when a 1d array was expected. Please change the shape of y to (n_samples, ), for example using ravel().\n",
      "  y = column_or_1d(y, warn=True)\n",
      "c:\\Users\\user_02\\anaconda3\\lib\\site-packages\\sklearn\\linear_model\\_coordinate_descent.py:1563: DataConversionWarning: A column-vector y was passed when a 1d array was expected. Please change the shape of y to (n_samples, ), for example using ravel().\n",
      "  y = column_or_1d(y, warn=True)\n",
      "c:\\Users\\user_02\\anaconda3\\lib\\site-packages\\sklearn\\linear_model\\_coordinate_descent.py:1563: DataConversionWarning: A column-vector y was passed when a 1d array was expected. Please change the shape of y to (n_samples, ), for example using ravel().\n",
      "  y = column_or_1d(y, warn=True)\n"
     ]
    },
    {
     "name": "stdout",
     "output_type": "stream",
     "text": [
      "29818.480258101463\n"
     ]
    }
   ],
   "source": [
    "lin_reg2 = Pipeline([(\"pre\", preprocess), (\"reg\", LassoCV(max_iter=10000, random_state=446))])\n",
    "lin_reg2.fit(nec_data, prices)\n",
    "\n",
    "housing_predictions2 = lin_reg2.predict(nec_data)\n",
    "lin_rmse2 = mean_squared_error(prices, housing_predictions2, squared=False)\n",
    "print(lin_rmse2)\n",
    "rmse2 = -cross_val_score(lin_reg2, nec_data, prices, scoring=\"neg_root_mean_squared_error\", cv=5)\n",
    "print(np.average(rmse2))"
   ]
  },
  {
   "cell_type": "markdown",
   "metadata": {},
   "source": [
    "$29,818 is better than $33,279, and the difference is also down to about $4,000. This warrants another competition submission."
   ]
  },
  {
   "cell_type": "code",
   "execution_count": 10,
   "metadata": {},
   "outputs": [],
   "source": [
    "# test_set[\"has_porch\"] = (test_set[\"OpenPorchSF\"] + test_set[\"EnclosedPorch\"] + test_set[\"3SsnPorch\"] + test_set[\"ScreenPorch\"] > 0)\n",
    "# test_set[\"has_deck\"] = (test_set[\"WoodDeckSF\"] > 0)\n",
    "# test_set[\"has_pool\"] = (test_set[\"PoolArea\"] > 0)\n",
    "# test_set[\"TotalSF\"] = test_set[\"1stFlrSF\"] + test_set[\"2ndFlrSF\"] + test_set[\"TotalBsmtSF\"]\n",
    "\n",
    "# test_pred = lin_reg2.predict(test_set)\n",
    "\n",
    "# with open('sacreddeer_house_new_submission_4.csv', 'w', newline='') as f:\n",
    "#     writer = csv.writer(f)\n",
    "#     writer.writerow([\"Id\", \"SalePrice\"])\n",
    "#     for k in range(len(ids)):\n",
    "#         writer.writerow([ids[k], test_pred[k]])"
   ]
  },
  {
   "cell_type": "markdown",
   "metadata": {},
   "source": [
    "Test error of 0.33, still very far above my lowest error of 0.2. I might have to go back to using PCA/truncated SVD, but for the moment I want to futher explore different models."
   ]
  },
  {
   "cell_type": "code",
   "execution_count": 11,
   "metadata": {},
   "outputs": [
    {
     "name": "stderr",
     "output_type": "stream",
     "text": [
      "c:\\Users\\user_02\\anaconda3\\lib\\site-packages\\sklearn\\linear_model\\_coordinate_descent.py:1563: DataConversionWarning: A column-vector y was passed when a 1d array was expected. Please change the shape of y to (n_samples, ), for example using ravel().\n",
      "  y = column_or_1d(y, warn=True)\n"
     ]
    },
    {
     "name": "stdout",
     "output_type": "stream",
     "text": [
      "25776.142402712998\n",
      "29818.480258101463\n"
     ]
    }
   ],
   "source": [
    "elast_reg = Pipeline([(\"pre\", preprocess), (\"reg\", ElasticNetCV(l1_ratio=[.1, .5, .7, .9, .95, .99, 1], max_iter=10000, random_state=446))])\n",
    "elast_reg.fit(nec_data, prices)\n",
    "\n",
    "housing_predictions3 = elast_reg.predict(nec_data)\n",
    "lin_rmse3 = mean_squared_error(prices, housing_predictions3, squared=False)\n",
    "print(lin_rmse3)\n",
    "rmse3 = -cross_val_score(elast_reg, nec_data, np.array(prices).ravel(), scoring=\"neg_root_mean_squared_error\", cv=5)\n",
    "print(np.average(rmse3))"
   ]
  },
  {
   "cell_type": "markdown",
   "metadata": {},
   "source": [
    "Looks like the best model was just Lasso again, since the MSE and CV score were the same as with LassoCV. It's time to gradient boosting, then decision trees, then random forests."
   ]
  },
  {
   "cell_type": "code",
   "execution_count": 12,
   "metadata": {},
   "outputs": [
    {
     "name": "stdout",
     "output_type": "stream",
     "text": [
      "145.11318737159658\n"
     ]
    }
   ],
   "source": [
    "print(lin_reg2[\"reg\"].alpha_)"
   ]
  },
  {
   "cell_type": "code",
   "execution_count": 13,
   "metadata": {},
   "outputs": [
    {
     "name": "stderr",
     "output_type": "stream",
     "text": [
      "c:\\Users\\user_02\\anaconda3\\lib\\site-packages\\sklearn\\linear_model\\_coordinate_descent.py:1563: DataConversionWarning: A column-vector y was passed when a 1d array was expected. Please change the shape of y to (n_samples, ), for example using ravel().\n",
      "  y = column_or_1d(y, warn=True)\n"
     ]
    },
    {
     "name": "stdout",
     "output_type": "stream",
     "text": [
      "25776.142402712998\n",
      "29818.480258101463\n"
     ]
    }
   ],
   "source": [
    "grad_lasso_reg = Pipeline([(\"pre\", preprocess), (\"reg\", LassoCV(max_iter=10000, random_state=446))])\n",
    "grad_lasso_reg.fit(nec_data, prices)\n",
    "\n",
    "housing_predictions = grad_lasso_reg.predict(nec_data)\n",
    "lin_rmse4 = mean_squared_error(prices, housing_predictions, squared=False)\n",
    "print(lin_rmse4)\n",
    "rmse4 = -cross_val_score(grad_lasso_reg, nec_data, np.array(prices).ravel(), scoring=\"neg_root_mean_squared_error\", cv=5)\n",
    "print(np.average(rmse4))"
   ]
  },
  {
   "cell_type": "markdown",
   "metadata": {},
   "source": [
    "Same values as last time."
   ]
  },
  {
   "cell_type": "code",
   "execution_count": 14,
   "metadata": {},
   "outputs": [
    {
     "name": "stdout",
     "output_type": "stream",
     "text": [
      "0.0\n"
     ]
    },
    {
     "name": "stderr",
     "output_type": "stream",
     "text": [
      "c:\\Users\\user_02\\anaconda3\\lib\\site-packages\\sklearn\\model_selection\\_split.py:725: UserWarning: The least populated class in y has only 1 members, which is less than n_splits=5.\n",
      "  warnings.warn(\n"
     ]
    },
    {
     "name": "stdout",
     "output_type": "stream",
     "text": [
      "53286.176551494034\n"
     ]
    }
   ],
   "source": [
    "dec_tree_reg = Pipeline([(\"pre\", preprocess), (\"reg\", DecisionTreeClassifier(random_state=446))])\n",
    "dec_tree_reg.fit(nec_data, prices)\n",
    "\n",
    "housing_predictions = dec_tree_reg.predict(nec_data)\n",
    "lin_rmse5 = mean_squared_error(prices, housing_predictions, squared=False)\n",
    "print(lin_rmse5)\n",
    "rmse5 = -cross_val_score(dec_tree_reg, nec_data, np.array(prices).ravel(), scoring=\"neg_root_mean_squared_error\", cv=5)\n",
    "print(np.average(rmse5))"
   ]
  },
  {
   "cell_type": "code",
   "execution_count": 15,
   "metadata": {},
   "outputs": [
    {
     "name": "stderr",
     "output_type": "stream",
     "text": [
      "c:\\Users\\user_02\\anaconda3\\lib\\site-packages\\sklearn\\model_selection\\_split.py:725: UserWarning: The least populated class in y has only 1 members, which is less than n_splits=5.\n",
      "  warnings.warn(\n"
     ]
    },
    {
     "name": "stdout",
     "output_type": "stream",
     "text": [
      "<bound method Pipeline.get_params of Pipeline(steps=[('pre',\n",
      "                 ColumnTransformer(remainder=Pipeline(steps=[('simpleimputer',\n",
      "                                                              SimpleImputer(strategy='median')),\n",
      "                                                             ('standardscaler',\n",
      "                                                              StandardScaler())]),\n",
      "                                   transformers=[('tail',\n",
      "                                                  Pipeline(steps=[('simpleimputer',\n",
      "                                                                   SimpleImputer(strategy='median')),\n",
      "                                                                  ('functiontransformer',\n",
      "                                                                   FunctionTransformer(func=<function safe_log at 0x0000014CF8A82DD0>,\n",
      "                                                                                       inverse_func=<ufun...\n",
      "                                                  ['MSSubClass', 'LotFrontage',\n",
      "                                                   'LotArea', 'YearBuilt',\n",
      "                                                   'TotalSF']),\n",
      "                                                 ('category',\n",
      "                                                  Pipeline(steps=[('simpleimputer',\n",
      "                                                                   SimpleImputer(strategy='most_frequent')),\n",
      "                                                                  ('onehotencoder',\n",
      "                                                                   OneHotEncoder(handle_unknown='ignore'))]),\n",
      "                                                  <sklearn.compose._column_transformer.make_column_selector object at 0x0000014CF8B22FE0>)])),\n",
      "                ('reg',\n",
      "                 DecisionTreeClassifier(max_depth=4, min_samples_leaf=7,\n",
      "                                        random_state=446))])>\n"
     ]
    },
    {
     "name": "stderr",
     "output_type": "stream",
     "text": [
      "c:\\Users\\user_02\\anaconda3\\lib\\site-packages\\sklearn\\model_selection\\_split.py:725: UserWarning: The least populated class in y has only 1 members, which is less than n_splits=10.\n",
      "  warnings.warn(\n"
     ]
    },
    {
     "name": "stdout",
     "output_type": "stream",
     "text": [
      "51160.49311358758\n"
     ]
    }
   ],
   "source": [
    "randdepth = np.array([2, 3, 4, 5, 6, 7, 8, 9])\n",
    "param_distribs = {\"reg__max_depth\": randdepth,\n",
    "                  \"reg__min_samples_leaf\": randint(low=1, high=20)}\n",
    "rmd_search = RandomizedSearchCV(\n",
    "    dec_tree_reg, param_distributions=param_distribs, \n",
    "    n_iter=20, cv=5, scoring=\"neg_root_mean_squared_error\", random_state=446\n",
    ")\n",
    "rmd_search.fit(nec_data, prices)\n",
    "final_rnd_model = rmd_search.best_estimator_\n",
    "print(final_rnd_model.get_params)\n",
    "\n",
    "final_rnd_model.fit(nec_data, prices)\n",
    "rmse6 = -cross_val_score(final_rnd_model, nec_data, np.array(prices).ravel(), scoring=\"neg_root_mean_squared_error\", cv=10)\n",
    "print(np.average(rmse6))"
   ]
  },
  {
   "cell_type": "code",
   "execution_count": 16,
   "metadata": {},
   "outputs": [
    {
     "name": "stderr",
     "output_type": "stream",
     "text": [
      "c:\\Users\\user_02\\anaconda3\\lib\\site-packages\\sklearn\\base.py:1151: DataConversionWarning: A column-vector y was passed when a 1d array was expected. Please change the shape of y to (n_samples,), for example using ravel().\n",
      "  return fit_method(estimator, *args, **kwargs)\n"
     ]
    },
    {
     "name": "stdout",
     "output_type": "stream",
     "text": [
      "10614.881018560249\n",
      "30114.770131979778\n"
     ]
    }
   ],
   "source": [
    "rand_forest_reg = Pipeline([(\"pre\", preprocess), (\"reg\", RandomForestRegressor(random_state=446, oob_score=True))])\n",
    "rand_forest_reg.fit(nec_data, prices)\n",
    "\n",
    "housing_predictions = rand_forest_reg.predict(nec_data)\n",
    "lin_rmse7 = mean_squared_error(prices, housing_predictions, squared=False)\n",
    "print(lin_rmse7)\n",
    "rmse7 = -cross_val_score(rand_forest_reg, nec_data, np.array(prices).ravel(), scoring=\"neg_root_mean_squared_error\", cv=5)\n",
    "print(np.average(rmse7))"
   ]
  },
  {
   "cell_type": "code",
   "execution_count": 17,
   "metadata": {},
   "outputs": [
    {
     "name": "stdout",
     "output_type": "stream",
     "text": [
      "<bound method Pipeline.get_params of Pipeline(steps=[('pre',\n",
      "                 ColumnTransformer(remainder=Pipeline(steps=[('simpleimputer',\n",
      "                                                              SimpleImputer(strategy='median')),\n",
      "                                                             ('standardscaler',\n",
      "                                                              StandardScaler())]),\n",
      "                                   transformers=[('tail',\n",
      "                                                  Pipeline(steps=[('simpleimputer',\n",
      "                                                                   SimpleImputer(strategy='median')),\n",
      "                                                                  ('functiontransformer',\n",
      "                                                                   FunctionTransformer(func=<function safe_log at 0x0000014CF8A82DD0>,\n",
      "                                                                                       inverse_func=<ufun...\n",
      "                                                   'LotArea', 'YearBuilt',\n",
      "                                                   'TotalSF']),\n",
      "                                                 ('category',\n",
      "                                                  Pipeline(steps=[('simpleimputer',\n",
      "                                                                   SimpleImputer(strategy='most_frequent')),\n",
      "                                                                  ('onehotencoder',\n",
      "                                                                   OneHotEncoder(handle_unknown='ignore'))]),\n",
      "                                                  <sklearn.compose._column_transformer.make_column_selector object at 0x0000014CF8D20550>)])),\n",
      "                ('reg',\n",
      "                 RandomForestRegressor(max_depth=9, n_estimators=330,\n",
      "                                       oob_score=True, random_state=446))])>\n"
     ]
    }
   ],
   "source": [
    "param_distribs2 = {\"reg__max_depth\": randdepth,\n",
    "                  \"reg__min_samples_leaf\": randint(low=1, high=10),\n",
    "                  \"reg__n_estimators\": randint(low=100, high=400)}\n",
    "rmd_search2 = RandomizedSearchCV(\n",
    "    rand_forest_reg, param_distributions=param_distribs2, \n",
    "    n_iter=10, cv=5, scoring=\"neg_root_mean_squared_error\", random_state=446\n",
    ")\n",
    "rmd_search2.fit(nec_data, np.array(prices).ravel())\n",
    "final_frt_model = rmd_search2.best_estimator_\n",
    "print(final_frt_model.get_params)"
   ]
  },
  {
   "cell_type": "code",
   "execution_count": 18,
   "metadata": {},
   "outputs": [
    {
     "name": "stderr",
     "output_type": "stream",
     "text": [
      "c:\\Users\\user_02\\anaconda3\\lib\\site-packages\\sklearn\\base.py:1151: DataConversionWarning: A column-vector y was passed when a 1d array was expected. Please change the shape of y to (n_samples,), for example using ravel().\n",
      "  return fit_method(estimator, *args, **kwargs)\n"
     ]
    },
    {
     "name": "stdout",
     "output_type": "stream",
     "text": [
      "0.8560395317448578\n"
     ]
    }
   ],
   "source": [
    "final_frt_model.fit(nec_data, prices)\n",
    "print(final_frt_model[\"reg\"].oob_score_)"
   ]
  },
  {
   "cell_type": "code",
   "execution_count": 19,
   "metadata": {},
   "outputs": [
    {
     "name": "stdout",
     "output_type": "stream",
     "text": [
      "30009.075382417785\n"
     ]
    }
   ],
   "source": [
    "rmse8 = -cross_val_score(final_frt_model, nec_data, np.array(prices).ravel(), scoring=\"neg_root_mean_squared_error\", cv=5)\n",
    "print(np.average(rmse8))"
   ]
  },
  {
   "cell_type": "code",
   "execution_count": 20,
   "metadata": {},
   "outputs": [
    {
     "name": "stdout",
     "output_type": "stream",
     "text": [
      "13194.207518756275\n"
     ]
    }
   ],
   "source": [
    "housing_predictions = final_frt_model.predict(nec_data)\n",
    "lin_rmse8 = mean_squared_error(prices, housing_predictions, squared=False)\n",
    "print(lin_rmse8)"
   ]
  }
 ],
 "metadata": {
  "kernelspec": {
   "display_name": "base",
   "language": "python",
   "name": "python3"
  },
  "language_info": {
   "codemirror_mode": {
    "name": "ipython",
    "version": 3
   },
   "file_extension": ".py",
   "mimetype": "text/x-python",
   "name": "python",
   "nbconvert_exporter": "python",
   "pygments_lexer": "ipython3",
   "version": "3.10.9"
  },
  "orig_nbformat": 4
 },
 "nbformat": 4,
 "nbformat_minor": 2
}
