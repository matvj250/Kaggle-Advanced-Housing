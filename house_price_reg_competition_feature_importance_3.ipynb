{
 "cells": [
  {
   "cell_type": "markdown",
   "metadata": {},
   "source": [
    "9/26\n",
    "\n",
    "This is more code for the Kaggle Ames, Iowa Housing Prices Competition. Last time, I determined a couple models for the data that resulted in good CV error and low differences between training and validation error. However, I never managed to get back to my best score in the competition, and my solution for that score used PCA (it also used Pearson's correlation coefficient, but it seems like feature removal may not be the greatest idea after the manual pruning I did). So, I'm going to combine PCA with my self-made features and LassoCV and random trees."
   ]
  },
  {
   "cell_type": "code",
   "execution_count": 31,
   "metadata": {},
   "outputs": [
    {
     "data": {
      "text/plain": [
       "'English_United States.1252'"
      ]
     },
     "execution_count": 31,
     "metadata": {},
     "output_type": "execute_result"
    }
   ],
   "source": [
    "from sklearn.impute import SimpleImputer\n",
    "from sklearn.preprocessing import OneHotEncoder, FunctionTransformer, StandardScaler, OrdinalEncoder, LabelEncoder\n",
    "from sklearn.pipeline import Pipeline, make_pipeline\n",
    "from sklearn.compose import ColumnTransformer, make_column_selector\n",
    "from sklearn.metrics import mean_squared_error\n",
    "from sklearn.linear_model import Lasso, LassoCV, ElasticNetCV\n",
    "from sklearn.tree import DecisionTreeClassifier\n",
    "from sklearn.model_selection import cross_val_score, learning_curve, RandomizedSearchCV\n",
    "from sklearn.ensemble import GradientBoostingRegressor, RandomForestRegressor\n",
    "from sklearn.decomposition import PCA, TruncatedSVD\n",
    "from sklearn.random_projection import GaussianRandomProjection\n",
    "\n",
    "import pandas as pd\n",
    "import numpy as np\n",
    "import csv\n",
    "import matplotlib.pyplot as plt\n",
    "import locale\n",
    "from scipy.stats import randint\n",
    "locale.setlocale( locale.LC_ALL, '' )"
   ]
  },
  {
   "cell_type": "code",
   "execution_count": 32,
   "metadata": {},
   "outputs": [
    {
     "name": "stdout",
     "output_type": "stream",
     "text": [
      "<class 'pandas.core.frame.DataFrame'>\n",
      "RangeIndex: 1460 entries, 0 to 1459\n",
      "Data columns (total 81 columns):\n",
      " #   Column         Non-Null Count  Dtype  \n",
      "---  ------         --------------  -----  \n",
      " 0   Id             1460 non-null   int64  \n",
      " 1   MSSubClass     1460 non-null   int64  \n",
      " 2   MSZoning       1460 non-null   object \n",
      " 3   LotFrontage    1201 non-null   float64\n",
      " 4   LotArea        1460 non-null   int64  \n",
      " 5   Street         1460 non-null   object \n",
      " 6   Alley          91 non-null     object \n",
      " 7   LotShape       1460 non-null   object \n",
      " 8   LandContour    1460 non-null   object \n",
      " 9   Utilities      1460 non-null   object \n",
      " 10  LotConfig      1460 non-null   object \n",
      " 11  LandSlope      1460 non-null   object \n",
      " 12  Neighborhood   1460 non-null   object \n",
      " 13  Condition1     1460 non-null   object \n",
      " 14  Condition2     1460 non-null   object \n",
      " 15  BldgType       1460 non-null   object \n",
      " 16  HouseStyle     1460 non-null   object \n",
      " 17  OverallQual    1460 non-null   int64  \n",
      " 18  OverallCond    1460 non-null   int64  \n",
      " 19  YearBuilt      1460 non-null   int64  \n",
      " 20  YearRemodAdd   1460 non-null   int64  \n",
      " 21  RoofStyle      1460 non-null   object \n",
      " 22  RoofMatl       1460 non-null   object \n",
      " 23  Exterior1st    1460 non-null   object \n",
      " 24  Exterior2nd    1460 non-null   object \n",
      " 25  MasVnrType     1452 non-null   object \n",
      " 26  MasVnrArea     1452 non-null   float64\n",
      " 27  ExterQual      1460 non-null   object \n",
      " 28  ExterCond      1460 non-null   object \n",
      " 29  Foundation     1460 non-null   object \n",
      " 30  BsmtQual       1423 non-null   object \n",
      " 31  BsmtCond       1423 non-null   object \n",
      " 32  BsmtExposure   1422 non-null   object \n",
      " 33  BsmtFinType1   1423 non-null   object \n",
      " 34  BsmtFinSF1     1460 non-null   int64  \n",
      " 35  BsmtFinType2   1422 non-null   object \n",
      " 36  BsmtFinSF2     1460 non-null   int64  \n",
      " 37  BsmtUnfSF      1460 non-null   int64  \n",
      " 38  TotalBsmtSF    1460 non-null   int64  \n",
      " 39  Heating        1460 non-null   object \n",
      " 40  HeatingQC      1460 non-null   object \n",
      " 41  CentralAir     1460 non-null   object \n",
      " 42  Electrical     1459 non-null   object \n",
      " 43  1stFlrSF       1460 non-null   int64  \n",
      " 44  2ndFlrSF       1460 non-null   int64  \n",
      " 45  LowQualFinSF   1460 non-null   int64  \n",
      " 46  GrLivArea      1460 non-null   int64  \n",
      " 47  BsmtFullBath   1460 non-null   int64  \n",
      " 48  BsmtHalfBath   1460 non-null   int64  \n",
      " 49  FullBath       1460 non-null   int64  \n",
      " 50  HalfBath       1460 non-null   int64  \n",
      " 51  BedroomAbvGr   1460 non-null   int64  \n",
      " 52  KitchenAbvGr   1460 non-null   int64  \n",
      " 53  KitchenQual    1460 non-null   object \n",
      " 54  TotRmsAbvGrd   1460 non-null   int64  \n",
      " 55  Functional     1460 non-null   object \n",
      " 56  Fireplaces     1460 non-null   int64  \n",
      " 57  FireplaceQu    770 non-null    object \n",
      " 58  GarageType     1379 non-null   object \n",
      " 59  GarageYrBlt    1379 non-null   float64\n",
      " 60  GarageFinish   1379 non-null   object \n",
      " 61  GarageCars     1460 non-null   int64  \n",
      " 62  GarageArea     1460 non-null   int64  \n",
      " 63  GarageQual     1379 non-null   object \n",
      " 64  GarageCond     1379 non-null   object \n",
      " 65  PavedDrive     1460 non-null   object \n",
      " 66  WoodDeckSF     1460 non-null   int64  \n",
      " 67  OpenPorchSF    1460 non-null   int64  \n",
      " 68  EnclosedPorch  1460 non-null   int64  \n",
      " 69  3SsnPorch      1460 non-null   int64  \n",
      " 70  ScreenPorch    1460 non-null   int64  \n",
      " 71  PoolArea       1460 non-null   int64  \n",
      " 72  PoolQC         7 non-null      object \n",
      " 73  Fence          281 non-null    object \n",
      " 74  MiscFeature    54 non-null     object \n",
      " 75  MiscVal        1460 non-null   int64  \n",
      " 76  MoSold         1460 non-null   int64  \n",
      " 77  YrSold         1460 non-null   int64  \n",
      " 78  SaleType       1460 non-null   object \n",
      " 79  SaleCondition  1460 non-null   object \n",
      " 80  SalePrice      1460 non-null   int64  \n",
      "dtypes: float64(3), int64(35), object(43)\n",
      "memory usage: 924.0+ KB\n"
     ]
    }
   ],
   "source": [
    "train_set = pd.read_csv(\"train.csv\")\n",
    "test_set = pd.read_csv(\"test.csv\")\n",
    "train_set.info()"
   ]
  },
  {
   "cell_type": "code",
   "execution_count": 33,
   "metadata": {},
   "outputs": [],
   "source": [
    "# dropping features with too many null values\n",
    "nec_data = train_set.drop(\"Alley\", axis=1)\n",
    "nec_data = nec_data.drop(\"PoolQC\", axis=1) \n",
    "nec_data = nec_data.drop(\"Fence\", axis=1)  \n",
    "nec_data = nec_data.drop(\"MiscFeature\", axis=1)\n",
    "nec_data = nec_data.drop(\"Id\", axis=1) # too individual\n",
    "\n",
    "# making new features\n",
    "nec_data[\"has_porch\"] = (nec_data[\"OpenPorchSF\"] + nec_data[\"EnclosedPorch\"] + nec_data[\"3SsnPorch\"] + nec_data[\"ScreenPorch\"] > 0)\n",
    "nec_data[\"has_deck\"] = (nec_data[\"WoodDeckSF\"] > 0)\n",
    "nec_data[\"has_pool\"] = (nec_data[\"PoolArea\"] > 0)\n",
    "nec_data[\"TotalSF\"] = nec_data[\"1stFlrSF\"] + nec_data[\"2ndFlrSF\"] + nec_data[\"TotalBsmtSF\"]\n",
    "\n",
    "# used in self-made feature\n",
    "nec_data = nec_data.drop(\"1stFlrSF\", axis=1) \n",
    "nec_data = nec_data.drop(\"2ndFlrSF\", axis=1) \n",
    "nec_data = nec_data.drop(\"TotalBsmtSF\", axis=1) \n",
    "nec_data = nec_data.drop(\"GrLivArea\", axis=1) \n",
    "\n",
    "nec_data = nec_data.drop(\"WoodDeckSF\", axis=1) \n",
    "\n",
    "nec_data = nec_data.drop(\"PoolArea\", axis=1) \n",
    "\n",
    "nec_data = nec_data.drop(\"OpenPorchSF\", axis=1) \n",
    "nec_data = nec_data.drop(\"EnclosedPorch\", axis=1) \n",
    "nec_data = nec_data.drop(\"3SsnPorch\", axis=1) \n",
    "nec_data = nec_data.drop(\"ScreenPorch\", axis=1) "
   ]
  },
  {
   "cell_type": "code",
   "execution_count": 34,
   "metadata": {},
   "outputs": [],
   "source": [
    "text_pipeline = make_pipeline(SimpleImputer(strategy=\"most_frequent\"), OneHotEncoder(handle_unknown=\"ignore\"))\n",
    "num_norm_pipeline = make_pipeline(SimpleImputer(strategy=\"median\"), StandardScaler())\n",
    "preprocess = ColumnTransformer([\n",
    "    (\"text\", text_pipeline, make_column_selector(dtype_include=object))],\n",
    "    remainder=num_norm_pipeline\n",
    ")"
   ]
  },
  {
   "cell_type": "code",
   "execution_count": 35,
   "metadata": {},
   "outputs": [
    {
     "name": "stdout",
     "output_type": "stream",
     "text": [
      "MSSubClass     -0.084284\n",
      "LotFrontage     0.351799\n",
      "LotArea         0.263843\n",
      "OverallQual     0.790982\n",
      "OverallCond    -0.077856\n",
      "YearBuilt       0.522897\n",
      "YearRemodAdd    0.507101\n",
      "MasVnrArea      0.477493\n",
      "BsmtFinSF1      0.386420\n",
      "BsmtFinSF2     -0.011378\n",
      "BsmtUnfSF       0.214479\n",
      "LowQualFinSF   -0.025606\n",
      "BsmtFullBath    0.227122\n",
      "BsmtHalfBath   -0.016844\n",
      "FullBath        0.560664\n",
      "HalfBath        0.284108\n",
      "BedroomAbvGr    0.168213\n",
      "KitchenAbvGr   -0.135907\n",
      "TotRmsAbvGrd    0.533723\n",
      "Fireplaces      0.466929\n",
      "GarageYrBlt     0.486362\n",
      "GarageCars      0.640409\n",
      "GarageArea      0.623431\n",
      "MiscVal        -0.021190\n",
      "MoSold          0.046432\n",
      "YrSold         -0.028923\n",
      "SalePrice       1.000000\n",
      "has_porch       0.296678\n",
      "has_deck        0.297662\n",
      "has_pool        0.093708\n",
      "TotalSF         0.782260\n",
      "Name: SalePrice, dtype: float64\n"
     ]
    }
   ],
   "source": [
    "corr_matrix = nec_data.corr(numeric_only=True)\n",
    "print(corr_matrix[\"SalePrice\"])"
   ]
  },
  {
   "cell_type": "code",
   "execution_count": 36,
   "metadata": {},
   "outputs": [],
   "source": [
    "prices = pd.DataFrame(train_set[\"SalePrice\"].copy())\n",
    "nec_data = nec_data.drop(\"SalePrice\", axis=1) # labels\n",
    "ids = test_set[\"Id\"].copy()"
   ]
  },
  {
   "cell_type": "code",
   "execution_count": 37,
   "metadata": {},
   "outputs": [
    {
     "name": "stdout",
     "output_type": "stream",
     "text": [
      "Real value: $208,500.00, Prediction: $228,918.52\n",
      "Real value: $181,500.00, Prediction: $171,837.16\n",
      "Real value: $223,500.00, Prediction: $245,414.08\n",
      "Real value: $140,000.00, Prediction: $177,068.15\n",
      "Real value: $250,000.00, Prediction: $301,092.50\n",
      "Real value: $143,000.00, Prediction: $168,837.83\n",
      "Real value: $307,000.00, Prediction: $260,258.74\n",
      "Real value: $200,000.00, Prediction: $231,454.77\n",
      "Real value: $129,900.00, Prediction: $165,484.99\n",
      "Real value: $118,000.00, Prediction: $119,390.76\n"
     ]
    },
    {
     "name": "stderr",
     "output_type": "stream",
     "text": [
      "c:\\Users\\user_02\\anaconda3\\lib\\site-packages\\sklearn\\linear_model\\_coordinate_descent.py:1563: DataConversionWarning: A column-vector y was passed when a 1d array was expected. Please change the shape of y to (n_samples, ), for example using ravel().\n",
      "  y = column_or_1d(y, warn=True)\n"
     ]
    }
   ],
   "source": [
    "lin_reg = Pipeline([(\"pre\", preprocess), (\"pca\", TruncatedSVD(n_components=2)), (\"reg\", LassoCV(max_iter=10000, random_state=446))])\n",
    "lin_reg.fit(nec_data, prices)\n",
    "\n",
    "housing_predictions = lin_reg.predict(nec_data)\n",
    "for k in range(10):\n",
    "    print(f\"Real value: {locale.currency(prices.iloc[k].values[0], grouping=True)}, Prediction: {locale.currency(housing_predictions[k].round(2), grouping=True)}\")"
   ]
  },
  {
   "cell_type": "code",
   "execution_count": 38,
   "metadata": {},
   "outputs": [
    {
     "name": "stdout",
     "output_type": "stream",
     "text": [
      "42333.184594367915\n"
     ]
    },
    {
     "name": "stderr",
     "output_type": "stream",
     "text": [
      "c:\\Users\\user_02\\anaconda3\\lib\\site-packages\\sklearn\\linear_model\\_coordinate_descent.py:1563: DataConversionWarning: A column-vector y was passed when a 1d array was expected. Please change the shape of y to (n_samples, ), for example using ravel().\n",
      "  y = column_or_1d(y, warn=True)\n",
      "c:\\Users\\user_02\\anaconda3\\lib\\site-packages\\sklearn\\linear_model\\_coordinate_descent.py:1563: DataConversionWarning: A column-vector y was passed when a 1d array was expected. Please change the shape of y to (n_samples, ), for example using ravel().\n",
      "  y = column_or_1d(y, warn=True)\n",
      "c:\\Users\\user_02\\anaconda3\\lib\\site-packages\\sklearn\\linear_model\\_coordinate_descent.py:1563: DataConversionWarning: A column-vector y was passed when a 1d array was expected. Please change the shape of y to (n_samples, ), for example using ravel().\n",
      "  y = column_or_1d(y, warn=True)\n",
      "c:\\Users\\user_02\\anaconda3\\lib\\site-packages\\sklearn\\linear_model\\_coordinate_descent.py:1563: DataConversionWarning: A column-vector y was passed when a 1d array was expected. Please change the shape of y to (n_samples, ), for example using ravel().\n",
      "  y = column_or_1d(y, warn=True)\n"
     ]
    },
    {
     "name": "stdout",
     "output_type": "stream",
     "text": [
      "42177.78515657047\n"
     ]
    },
    {
     "name": "stderr",
     "output_type": "stream",
     "text": [
      "c:\\Users\\user_02\\anaconda3\\lib\\site-packages\\sklearn\\linear_model\\_coordinate_descent.py:1563: DataConversionWarning: A column-vector y was passed when a 1d array was expected. Please change the shape of y to (n_samples, ), for example using ravel().\n",
      "  y = column_or_1d(y, warn=True)\n"
     ]
    }
   ],
   "source": [
    "lin_rmse = mean_squared_error(prices, housing_predictions, squared=False)\n",
    "print(lin_rmse)\n",
    "\n",
    "rmse = -cross_val_score(lin_reg, nec_data, prices, scoring=\"neg_root_mean_squared_error\", cv=5)\n",
    "print(np.average(rmse))"
   ]
  },
  {
   "cell_type": "code",
   "execution_count": 39,
   "metadata": {},
   "outputs": [],
   "source": [
    "# test_set[\"has_porch\"] = (test_set[\"OpenPorchSF\"] + test_set[\"EnclosedPorch\"] + test_set[\"3SsnPorch\"] + test_set[\"ScreenPorch\"] > 0)\n",
    "# test_set[\"has_deck\"] = (test_set[\"WoodDeckSF\"] > 0)\n",
    "# test_set[\"has_pool\"] = (test_set[\"PoolArea\"] > 0)\n",
    "# test_set[\"TotalSF\"] = test_set[\"1stFlrSF\"] + test_set[\"2ndFlrSF\"] + test_set[\"TotalBsmtSF\"]\n",
    "\n",
    "# test_pred = lin_reg.predict(test_set)\n",
    "\n",
    "# with open('sacreddeer_house_new_submission_5.csv', 'w', newline='') as f:\n",
    "#     writer = csv.writer(f)\n",
    "#     writer.writerow([\"Id\", \"SalePrice\"])\n",
    "#     for k in range(len(ids)):\n",
    "#         writer.writerow([ids[k], test_pred[k]])"
   ]
  },
  {
   "cell_type": "code",
   "execution_count": 43,
   "metadata": {},
   "outputs": [
    {
     "name": "stdout",
     "output_type": "stream",
     "text": [
      "<bound method Pipeline.get_params of Pipeline(steps=[('pre',\n",
      "                 ColumnTransformer(remainder=Pipeline(steps=[('simpleimputer',\n",
      "                                                              SimpleImputer(strategy='median')),\n",
      "                                                             ('standardscaler',\n",
      "                                                              StandardScaler())]),\n",
      "                                   transformers=[('text',\n",
      "                                                  Pipeline(steps=[('simpleimputer',\n",
      "                                                                   SimpleImputer(strategy='most_frequent')),\n",
      "                                                                  ('onehotencoder',\n",
      "                                                                   OneHotEncoder(handle_unknown='ignore'))]),\n",
      "                                                  <sklearn.compose._column_transformer.make_column_selector object at 0x000001A73BE674C0>)])),\n",
      "                ('pca', TruncatedSVD(n_components=9)),\n",
      "                ('reg', LassoCV(max_iter=10000, random_state=446))])>\n"
     ]
    }
   ],
   "source": [
    "randcom = np.array([2, 3, 4, 5, 6, 7, 8, 9])\n",
    "param_distribs = {\"pca__n_components\": randcom}\n",
    "rmd_search = RandomizedSearchCV(\n",
    "    lin_reg, param_distributions=param_distribs, \n",
    "    n_iter=10, cv=5, scoring=\"neg_root_mean_squared_error\", random_state=446\n",
    ")\n",
    "rmd_search.fit(nec_data, np.array(prices).ravel())\n",
    "final_rnd_model = rmd_search.best_estimator_\n",
    "print(final_rnd_model.get_params)"
   ]
  },
  {
   "cell_type": "code",
   "execution_count": 45,
   "metadata": {},
   "outputs": [
    {
     "name": "stdout",
     "output_type": "stream",
     "text": [
      "37252.52656794961\n"
     ]
    }
   ],
   "source": [
    "final_rnd_model.fit(nec_data, np.array(prices).ravel())\n",
    "rmse2 = -cross_val_score(final_rnd_model, nec_data, np.array(prices).ravel(), scoring=\"neg_root_mean_squared_error\", cv=10)\n",
    "print(np.average(rmse2))"
   ]
  },
  {
   "cell_type": "code",
   "execution_count": 46,
   "metadata": {},
   "outputs": [],
   "source": [
    "# test_set[\"has_porch\"] = (test_set[\"OpenPorchSF\"] + test_set[\"EnclosedPorch\"] + test_set[\"3SsnPorch\"] + test_set[\"ScreenPorch\"] > 0)\n",
    "# test_set[\"has_deck\"] = (test_set[\"WoodDeckSF\"] > 0)\n",
    "# test_set[\"has_pool\"] = (test_set[\"PoolArea\"] > 0)\n",
    "# test_set[\"TotalSF\"] = test_set[\"1stFlrSF\"] + test_set[\"2ndFlrSF\"] + test_set[\"TotalBsmtSF\"]\n",
    "\n",
    "# test_pred = final_rnd_model.predict(test_set)\n",
    "\n",
    "# with open('sacreddeer_house_new_submission_6.csv', 'w', newline='') as f:\n",
    "#     writer = csv.writer(f)\n",
    "#     writer.writerow([\"Id\", \"SalePrice\"])\n",
    "#     for k in range(len(ids)):\n",
    "#         writer.writerow([ids[k], test_pred[k]])"
   ]
  },
  {
   "cell_type": "code",
   "execution_count": 49,
   "metadata": {},
   "outputs": [
    {
     "name": "stdout",
     "output_type": "stream",
     "text": [
      "<bound method Pipeline.get_params of Pipeline(steps=[('pre',\n",
      "                 ColumnTransformer(remainder=Pipeline(steps=[('simpleimputer',\n",
      "                                                              SimpleImputer(strategy='median')),\n",
      "                                                             ('standardscaler',\n",
      "                                                              StandardScaler())]),\n",
      "                                   transformers=[('text',\n",
      "                                                  Pipeline(steps=[('simpleimputer',\n",
      "                                                                   SimpleImputer(strategy='most_frequent')),\n",
      "                                                                  ('onehotencoder',\n",
      "                                                                   OneHotEncoder(handle_unknown='ignore'))]),\n",
      "                                                  <sklearn.compose._column_transformer.make_column_selector object at 0x000001A73BE674C0>)])),\n",
      "                ('pca', TruncatedSVD(n_components=9)),\n",
      "                ('reg', LassoCV(max_iter=10000, random_state=446))])>\n"
     ]
    }
   ],
   "source": [
    "randcom2 = np.array([6, 7, 8, 9, 10, 11, 12, 13, 14, 15])\n",
    "param_distribs2 = {\"pca__n_components\": randcom2}\n",
    "rmd_search2 = RandomizedSearchCV(\n",
    "    lin_reg, param_distributions=param_distribs2, \n",
    "    n_iter=10, cv=5, scoring=\"neg_root_mean_squared_error\", random_state=446\n",
    ")\n",
    "rmd_search2.fit(nec_data, np.array(prices).ravel())\n",
    "final_rnd_model2 = rmd_search.best_estimator_\n",
    "print(final_rnd_model2.get_params)"
   ]
  },
  {
   "cell_type": "markdown",
   "metadata": {},
   "source": [
    "SVD with 9 components performed very well, reducing my test error down to 0.189. This is my best score yet, however, I'm still under 3000th place. When I'm writing this, school starts tomorrow, so I'll probably need to come back to this project much later."
   ]
  }
 ],
 "metadata": {
  "kernelspec": {
   "display_name": "base",
   "language": "python",
   "name": "python3"
  },
  "language_info": {
   "codemirror_mode": {
    "name": "ipython",
    "version": 3
   },
   "file_extension": ".py",
   "mimetype": "text/x-python",
   "name": "python",
   "nbconvert_exporter": "python",
   "pygments_lexer": "ipython3",
   "version": "3.10.9"
  },
  "orig_nbformat": 4
 },
 "nbformat": 4,
 "nbformat_minor": 2
}
