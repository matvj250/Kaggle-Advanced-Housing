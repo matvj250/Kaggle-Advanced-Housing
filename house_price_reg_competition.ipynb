{
 "cells": [
  {
   "cell_type": "code",
   "execution_count": 43,
   "metadata": {},
   "outputs": [
    {
     "data": {
      "text/plain": [
       "'English_United States.1252'"
      ]
     },
     "execution_count": 43,
     "metadata": {},
     "output_type": "execute_result"
    }
   ],
   "source": [
    "# Different variations of correlation pruning, SVD (num of components), and lin reg\n",
    "# n_components = 2, the default, did the best\n",
    "\n",
    "from sklearn.impute import SimpleImputer\n",
    "from sklearn.preprocessing import OneHotEncoder, StandardScaler\n",
    "from sklearn.pipeline import Pipeline, make_pipeline\n",
    "from sklearn.compose import ColumnTransformer, make_column_selector\n",
    "from sklearn.linear_model import LinearRegression\n",
    "from sklearn.metrics import mean_squared_error\n",
    "from sklearn.model_selection import cross_val_score, RandomizedSearchCV\n",
    "from sklearn.decomposition import PCA, TruncatedSVD\n",
    "\n",
    "import pandas as pd\n",
    "import numpy as np\n",
    "import csv\n",
    "import locale\n",
    "from scipy.stats import randint\n",
    "import joblib\n",
    "locale.setlocale( locale.LC_ALL, '' )"
   ]
  },
  {
   "cell_type": "code",
   "execution_count": 37,
   "metadata": {},
   "outputs": [],
   "source": [
    "def safe_log(x):\n",
    "    return np.log(x + 1e-10)\n",
    "#thanks to ChatGPT 3.5 for this function"
   ]
  },
  {
   "cell_type": "code",
   "execution_count": 18,
   "metadata": {},
   "outputs": [],
   "source": [
    "train_set = pd.read_csv(\"train.csv\")\n",
    "test_set = pd.read_csv(\"test.csv\")"
   ]
  },
  {
   "cell_type": "code",
   "execution_count": 20,
   "metadata": {},
   "outputs": [
    {
     "name": "stdout",
     "output_type": "stream",
     "text": [
      "<class 'pandas.core.frame.DataFrame'>\n",
      "RangeIndex: 1460 entries, 0 to 1459\n",
      "Data columns (total 81 columns):\n",
      " #   Column         Non-Null Count  Dtype  \n",
      "---  ------         --------------  -----  \n",
      " 0   Id             1460 non-null   int64  \n",
      " 1   MSSubClass     1460 non-null   int64  \n",
      " 2   MSZoning       1460 non-null   object \n",
      " 3   LotFrontage    1201 non-null   float64\n",
      " 4   LotArea        1460 non-null   int64  \n",
      " 5   Street         1460 non-null   object \n",
      " 6   Alley          91 non-null     object \n",
      " 7   LotShape       1460 non-null   object \n",
      " 8   LandContour    1460 non-null   object \n",
      " 9   Utilities      1460 non-null   object \n",
      " 10  LotConfig      1460 non-null   object \n",
      " 11  LandSlope      1460 non-null   object \n",
      " 12  Neighborhood   1460 non-null   object \n",
      " 13  Condition1     1460 non-null   object \n",
      " 14  Condition2     1460 non-null   object \n",
      " 15  BldgType       1460 non-null   object \n",
      " 16  HouseStyle     1460 non-null   object \n",
      " 17  OverallQual    1460 non-null   int64  \n",
      " 18  OverallCond    1460 non-null   int64  \n",
      " 19  YearBuilt      1460 non-null   int64  \n",
      " 20  YearRemodAdd   1460 non-null   int64  \n",
      " 21  RoofStyle      1460 non-null   object \n",
      " 22  RoofMatl       1460 non-null   object \n",
      " 23  Exterior1st    1460 non-null   object \n",
      " 24  Exterior2nd    1460 non-null   object \n",
      " 25  MasVnrType     1452 non-null   object \n",
      " 26  MasVnrArea     1452 non-null   float64\n",
      " 27  ExterQual      1460 non-null   object \n",
      " 28  ExterCond      1460 non-null   object \n",
      " 29  Foundation     1460 non-null   object \n",
      " 30  BsmtQual       1423 non-null   object \n",
      " 31  BsmtCond       1423 non-null   object \n",
      " 32  BsmtExposure   1422 non-null   object \n",
      " 33  BsmtFinType1   1423 non-null   object \n",
      " 34  BsmtFinSF1     1460 non-null   int64  \n",
      " 35  BsmtFinType2   1422 non-null   object \n",
      " 36  BsmtFinSF2     1460 non-null   int64  \n",
      " 37  BsmtUnfSF      1460 non-null   int64  \n",
      " 38  TotalBsmtSF    1460 non-null   int64  \n",
      " 39  Heating        1460 non-null   object \n",
      " 40  HeatingQC      1460 non-null   object \n",
      " 41  CentralAir     1460 non-null   object \n",
      " 42  Electrical     1459 non-null   object \n",
      " 43  1stFlrSF       1460 non-null   int64  \n",
      " 44  2ndFlrSF       1460 non-null   int64  \n",
      " 45  LowQualFinSF   1460 non-null   int64  \n",
      " 46  GrLivArea      1460 non-null   int64  \n",
      " 47  BsmtFullBath   1460 non-null   int64  \n",
      " 48  BsmtHalfBath   1460 non-null   int64  \n",
      " 49  FullBath       1460 non-null   int64  \n",
      " 50  HalfBath       1460 non-null   int64  \n",
      " 51  BedroomAbvGr   1460 non-null   int64  \n",
      " 52  KitchenAbvGr   1460 non-null   int64  \n",
      " 53  KitchenQual    1460 non-null   object \n",
      " 54  TotRmsAbvGrd   1460 non-null   int64  \n",
      " 55  Functional     1460 non-null   object \n",
      " 56  Fireplaces     1460 non-null   int64  \n",
      " 57  FireplaceQu    770 non-null    object \n",
      " 58  GarageType     1379 non-null   object \n",
      " 59  GarageYrBlt    1379 non-null   float64\n",
      " 60  GarageFinish   1379 non-null   object \n",
      " 61  GarageCars     1460 non-null   int64  \n",
      " 62  GarageArea     1460 non-null   int64  \n",
      " 63  GarageQual     1379 non-null   object \n",
      " 64  GarageCond     1379 non-null   object \n",
      " 65  PavedDrive     1460 non-null   object \n",
      " 66  WoodDeckSF     1460 non-null   int64  \n",
      " 67  OpenPorchSF    1460 non-null   int64  \n",
      " 68  EnclosedPorch  1460 non-null   int64  \n",
      " 69  3SsnPorch      1460 non-null   int64  \n",
      " 70  ScreenPorch    1460 non-null   int64  \n",
      " 71  PoolArea       1460 non-null   int64  \n",
      " 72  PoolQC         7 non-null      object \n",
      " 73  Fence          281 non-null    object \n",
      " 74  MiscFeature    54 non-null     object \n",
      " 75  MiscVal        1460 non-null   int64  \n",
      " 76  MoSold         1460 non-null   int64  \n",
      " 77  YrSold         1460 non-null   int64  \n",
      " 78  SaleType       1460 non-null   object \n",
      " 79  SaleCondition  1460 non-null   object \n",
      " 80  SalePrice      1460 non-null   int64  \n",
      "dtypes: float64(3), int64(35), object(43)\n",
      "memory usage: 924.0+ KB\n"
     ]
    }
   ],
   "source": [
    "train_set.info()"
   ]
  },
  {
   "cell_type": "code",
   "execution_count": 22,
   "metadata": {},
   "outputs": [
    {
     "name": "stdout",
     "output_type": "stream",
     "text": [
      "['Id', 'MSSubClass', 'LotFrontage', 'LotArea', 'OverallQual', 'OverallCond', 'YearBuilt', 'YearRemodAdd', 'MasVnrArea', 'BsmtFinSF1', 'BsmtFinSF2', 'BsmtUnfSF', 'TotalBsmtSF', '1stFlrSF', '2ndFlrSF', 'LowQualFinSF', 'GrLivArea', 'BsmtFullBath', 'BsmtHalfBath', 'FullBath', 'HalfBath', 'BedroomAbvGr', 'KitchenAbvGr', 'TotRmsAbvGrd', 'Fireplaces', 'GarageYrBlt', 'GarageCars', 'GarageArea', 'WoodDeckSF', 'OpenPorchSF', 'EnclosedPorch', '3SsnPorch', 'ScreenPorch', 'PoolArea', 'MiscVal', 'MoSold', 'YrSold', 'SalePrice']\n"
     ]
    },
    {
     "name": "stderr",
     "output_type": "stream",
     "text": [
      "C:\\Users\\user_02\\AppData\\Local\\Temp\\ipykernel_21044\\4254063651.py:9: FutureWarning: The default value of numeric_only in DataFrame.corr is deprecated. In a future version, it will default to False. Select only valid columns or specify the value of numeric_only to silence this warning.\n",
      "  corr_matrix = housing.corr()\n"
     ]
    },
    {
     "data": {
      "text/plain": [
       "Id              -0.021917\n",
       "MSSubClass      -0.084284\n",
       "LotFrontage      0.351799\n",
       "LotArea          0.263843\n",
       "OverallQual      0.790982\n",
       "OverallCond     -0.077856\n",
       "YearBuilt        0.522897\n",
       "YearRemodAdd     0.507101\n",
       "MasVnrArea       0.477493\n",
       "BsmtFinSF1       0.386420\n",
       "BsmtFinSF2      -0.011378\n",
       "BsmtUnfSF        0.214479\n",
       "TotalBsmtSF      0.613581\n",
       "1stFlrSF         0.605852\n",
       "2ndFlrSF         0.319334\n",
       "LowQualFinSF    -0.025606\n",
       "GrLivArea        0.708624\n",
       "BsmtFullBath     0.227122\n",
       "BsmtHalfBath    -0.016844\n",
       "FullBath         0.560664\n",
       "HalfBath         0.284108\n",
       "BedroomAbvGr     0.168213\n",
       "KitchenAbvGr    -0.135907\n",
       "TotRmsAbvGrd     0.533723\n",
       "Fireplaces       0.466929\n",
       "GarageYrBlt      0.486362\n",
       "GarageCars       0.640409\n",
       "GarageArea       0.623431\n",
       "WoodDeckSF       0.324413\n",
       "OpenPorchSF      0.315856\n",
       "EnclosedPorch   -0.128578\n",
       "3SsnPorch        0.044584\n",
       "ScreenPorch      0.111447\n",
       "PoolArea         0.092404\n",
       "MiscVal         -0.021190\n",
       "MoSold           0.046432\n",
       "YrSold          -0.028923\n",
       "SalePrice        1.000000\n",
       "Name: SalePrice, dtype: float64"
      ]
     },
     "execution_count": 22,
     "metadata": {},
     "output_type": "execute_result"
    }
   ],
   "source": [
    "housing = train_set.copy()\n",
    "\n",
    "housing = housing.drop(\"PoolQC\", axis=1)\n",
    "housing = housing.drop(\"Fence\", axis=1)\n",
    "housing = housing.drop(\"MiscFeature\", axis=1)\n",
    "housing = housing.drop(\"FireplaceQu\", axis=1)\n",
    "housing = housing.drop(\"Alley\", axis=1)\n",
    "\n",
    "corr_matrix = housing.corr()\n",
    "list_col = list(corr_matrix)\n",
    "corr_matrix[\"SalePrice\"]"
   ]
  },
  {
   "cell_type": "code",
   "execution_count": 23,
   "metadata": {},
   "outputs": [],
   "source": [
    "housing_labels = pd.DataFrame(train_set[\"SalePrice\"].copy())\n",
    "housing = housing.drop(\"SalePrice\", axis=1)\n",
    "ids = test_set[\"Id\"]\n",
    "\n",
    "for k in range(len(list_col)):\n",
    "    if corr_matrix[\"SalePrice\"][k] < 0.5:\n",
    "        housing = housing.drop(f\"{list_col[k]}\", axis=1)"
   ]
  },
  {
   "cell_type": "code",
   "execution_count": 24,
   "metadata": {},
   "outputs": [
    {
     "name": "stdout",
     "output_type": "stream",
     "text": [
      "<class 'pandas.core.frame.DataFrame'>\n",
      "RangeIndex: 1460 entries, 0 to 1459\n",
      "Data columns (total 48 columns):\n",
      " #   Column         Non-Null Count  Dtype \n",
      "---  ------         --------------  ----- \n",
      " 0   MSZoning       1460 non-null   object\n",
      " 1   Street         1460 non-null   object\n",
      " 2   LotShape       1460 non-null   object\n",
      " 3   LandContour    1460 non-null   object\n",
      " 4   Utilities      1460 non-null   object\n",
      " 5   LotConfig      1460 non-null   object\n",
      " 6   LandSlope      1460 non-null   object\n",
      " 7   Neighborhood   1460 non-null   object\n",
      " 8   Condition1     1460 non-null   object\n",
      " 9   Condition2     1460 non-null   object\n",
      " 10  BldgType       1460 non-null   object\n",
      " 11  HouseStyle     1460 non-null   object\n",
      " 12  OverallQual    1460 non-null   int64 \n",
      " 13  YearBuilt      1460 non-null   int64 \n",
      " 14  YearRemodAdd   1460 non-null   int64 \n",
      " 15  RoofStyle      1460 non-null   object\n",
      " 16  RoofMatl       1460 non-null   object\n",
      " 17  Exterior1st    1460 non-null   object\n",
      " 18  Exterior2nd    1460 non-null   object\n",
      " 19  MasVnrType     1452 non-null   object\n",
      " 20  ExterQual      1460 non-null   object\n",
      " 21  ExterCond      1460 non-null   object\n",
      " 22  Foundation     1460 non-null   object\n",
      " 23  BsmtQual       1423 non-null   object\n",
      " 24  BsmtCond       1423 non-null   object\n",
      " 25  BsmtExposure   1422 non-null   object\n",
      " 26  BsmtFinType1   1423 non-null   object\n",
      " 27  BsmtFinType2   1422 non-null   object\n",
      " 28  TotalBsmtSF    1460 non-null   int64 \n",
      " 29  Heating        1460 non-null   object\n",
      " 30  HeatingQC      1460 non-null   object\n",
      " 31  CentralAir     1460 non-null   object\n",
      " 32  Electrical     1459 non-null   object\n",
      " 33  1stFlrSF       1460 non-null   int64 \n",
      " 34  GrLivArea      1460 non-null   int64 \n",
      " 35  FullBath       1460 non-null   int64 \n",
      " 36  KitchenQual    1460 non-null   object\n",
      " 37  TotRmsAbvGrd   1460 non-null   int64 \n",
      " 38  Functional     1460 non-null   object\n",
      " 39  GarageType     1379 non-null   object\n",
      " 40  GarageFinish   1379 non-null   object\n",
      " 41  GarageCars     1460 non-null   int64 \n",
      " 42  GarageArea     1460 non-null   int64 \n",
      " 43  GarageQual     1379 non-null   object\n",
      " 44  GarageCond     1379 non-null   object\n",
      " 45  PavedDrive     1460 non-null   object\n",
      " 46  SaleType       1460 non-null   object\n",
      " 47  SaleCondition  1460 non-null   object\n",
      "dtypes: int64(10), object(38)\n",
      "memory usage: 547.6+ KB\n"
     ]
    }
   ],
   "source": [
    "housing.info()"
   ]
  },
  {
   "cell_type": "code",
   "execution_count": 15,
   "metadata": {},
   "outputs": [],
   "source": [
    "text_pipeline = make_pipeline(SimpleImputer(strategy=\"most_frequent\"), OneHotEncoder(handle_unknown=\"ignore\"))\n",
    "num_norm_pipeline = make_pipeline(SimpleImputer(strategy=\"median\"), StandardScaler())\n",
    "preprocess = ColumnTransformer([\n",
    "    (\"text\", text_pipeline, make_column_selector(dtype_include=object))],\n",
    "    remainder=num_norm_pipeline\n",
    ")"
   ]
  },
  {
   "cell_type": "code",
   "execution_count": 29,
   "metadata": {},
   "outputs": [
    {
     "name": "stdout",
     "output_type": "stream",
     "text": [
      "Real value: $208,500.00, Prediction: $227,008.76\n",
      "Real value: $181,500.00, Prediction: $179,399.80\n",
      "Real value: $223,500.00, Prediction: $232,768.88\n",
      "Real value: $140,000.00, Prediction: $169,700.93\n",
      "Real value: $250,000.00, Prediction: $284,263.44\n",
      "Real value: $143,000.00, Prediction: $152,643.33\n",
      "Real value: $307,000.00, Prediction: $264,789.15\n",
      "Real value: $200,000.00, Prediction: $209,913.89\n",
      "Real value: $129,900.00, Prediction: $167,287.07\n",
      "Real value: $118,000.00, Prediction: $115,428.68\n"
     ]
    }
   ],
   "source": [
    "lin_reg = Pipeline([(\"pre\", preprocess), (\"pca\", TruncatedSVD()), (\"reg\", LinearRegression())])\n",
    "lin_reg.fit(housing, housing_labels)\n",
    "\n",
    "housing_predictions = lin_reg.predict(housing)\n",
    "for k in range(10):\n",
    "    print(f\"Real value: {locale.currency(housing_labels.iloc[k].values[0], grouping=True)}, Prediction: {locale.currency(housing_predictions[k][0].round(2), grouping=True)}\")"
   ]
  },
  {
   "cell_type": "code",
   "execution_count": 38,
   "metadata": {},
   "outputs": [
    {
     "name": "stdout",
     "output_type": "stream",
     "text": [
      "0.2015161779367964\n"
     ]
    }
   ],
   "source": [
    "lin_rmse = mean_squared_error(safe_log(housing_labels), safe_log(housing_predictions), squared=False)\n",
    "print(lin_rmse)"
   ]
  },
  {
   "cell_type": "code",
   "execution_count": 50,
   "metadata": {},
   "outputs": [
    {
     "name": "stdout",
     "output_type": "stream",
     "text": [
      "TruncatedSVD(n_components=9)\n"
     ]
    }
   ],
   "source": [
    "param_distribs = {\"pca__n_components\": randint(low=2, high=10)}\n",
    "rdm_search = RandomizedSearchCV(\n",
    "    lin_reg, param_distributions=param_distribs, n_iter=10, cv=3, scoring=\"neg_root_mean_squared_error\"\n",
    ")\n",
    "rdm_search.fit(housing, housing_labels)\n",
    "final_lr_model = rdm_search.best_estimator_\n",
    "print(final_lr_model[\"pca\"])"
   ]
  },
  {
   "cell_type": "code",
   "execution_count": 60,
   "metadata": {},
   "outputs": [
    {
     "name": "stdout",
     "output_type": "stream",
     "text": [
      "36785.51195237752\n"
     ]
    }
   ],
   "source": [
    "housing_predictions2 = final_lr_model.predict(housing)\n",
    "lin_rmse2 = mean_squared_error(housing_labels, housing_predictions2, squared=False)\n",
    "print(lin_rmse2)"
   ]
  },
  {
   "cell_type": "code",
   "execution_count": 52,
   "metadata": {},
   "outputs": [
    {
     "name": "stdout",
     "output_type": "stream",
     "text": [
      "Real value: $208,500.00, Prediction: $220,596.87\n",
      "Real value: $181,500.00, Prediction: $164,584.36\n",
      "Real value: $223,500.00, Prediction: $225,233.88\n",
      "Real value: $140,000.00, Prediction: $200,252.39\n",
      "Real value: $250,000.00, Prediction: $291,742.57\n",
      "Real value: $143,000.00, Prediction: $144,734.53\n",
      "Real value: $307,000.00, Prediction: $266,722.70\n",
      "Real value: $200,000.00, Prediction: $217,718.28\n",
      "Real value: $129,900.00, Prediction: $162,323.98\n",
      "Real value: $118,000.00, Prediction: $114,910.67\n"
     ]
    }
   ],
   "source": [
    "for k in range(10):\n",
    "    print(f\"Real value: {locale.currency(housing_labels.iloc[k].values[0], grouping=True)}, Prediction: {locale.currency(housing_predictions2[k][0].round(2), grouping=True)}\")"
   ]
  },
  {
   "cell_type": "code",
   "execution_count": 46,
   "metadata": {},
   "outputs": [],
   "source": [
    "# test_pred = final_lr_model.predict(test_set)\n",
    "# with open('sacreddeer_house_submission_1.csv', 'w', newline='') as f:\n",
    "#     writer = csv.writer(f)\n",
    "#     writer.writerow([\"Id\", \"SalePrice\"])\n",
    "#     for k in range(len(ids)):\n",
    "#         writer.writerow([ids[k], test_pred[k][0]])"
   ]
  },
  {
   "cell_type": "code",
   "execution_count": 47,
   "metadata": {},
   "outputs": [],
   "source": [
    "# test_pred = lin_reg.predict(test_set)\n",
    "# with open('sacreddeer_house_submission_2.csv', 'w', newline='') as f:\n",
    "#     writer = csv.writer(f)\n",
    "#     writer.writerow([\"Id\", \"SalePrice\"])\n",
    "#     for k in range(len(ids)):\n",
    "#         writer.writerow([ids[k], test_pred[k][0]])"
   ]
  },
  {
   "cell_type": "code",
   "execution_count": 63,
   "metadata": {},
   "outputs": [],
   "source": [
    "lin_reg0 = Pipeline([(\"pre\", preprocess),\n",
    "                     (\"pca\", TruncatedSVD(n_components=1)), (\"reg\", LinearRegression())])             \n",
    "lin_reg2 = Pipeline([(\"pre\", preprocess), \n",
    "                     (\"pca\", TruncatedSVD(n_components=3)), (\"reg\", LinearRegression())])\n",
    "lin_reg3 = Pipeline([(\"pre\", preprocess), \n",
    "                     (\"pca\", TruncatedSVD(n_components=4)), (\"reg\", LinearRegression())])\n",
    "lin_reg4 = Pipeline([(\"pre\", preprocess), \n",
    "                     (\"pca\", TruncatedSVD(n_components=5)), (\"reg\", LinearRegression())])\n",
    "lin_reg5 = Pipeline([(\"pre\", preprocess), \n",
    "                     (\"pca\", TruncatedSVD(n_components=6)), (\"reg\", LinearRegression())])\n"
   ]
  },
  {
   "cell_type": "code",
   "execution_count": 64,
   "metadata": {},
   "outputs": [
    {
     "name": "stdout",
     "output_type": "stream",
     "text": [
      "79414.51153158581\n",
      "41552.185615124916\n",
      "39823.434918528765\n",
      "39787.041150819205\n",
      "39733.719905974205\n",
      "39621.47379127692\n",
      "36834.09391895131\n"
     ]
    }
   ],
   "source": [
    "models = [lin_reg0, lin_reg, lin_reg2, lin_reg3, lin_reg4, lin_reg5, final_lr_model]\n",
    "for k in range(len(models)):\n",
    "    models[k].fit(housing, housing_labels)\n",
    "    print(mean_squared_error(housing_labels, models[k].predict(housing), squared=False))\n"
   ]
  },
  {
   "cell_type": "code",
   "execution_count": 62,
   "metadata": {},
   "outputs": [],
   "source": [
    "# test_pred = lin_reg3.predict(test_set)\n",
    "# with open('sacreddeer_house_submission_3.csv', 'w', newline='') as f:\n",
    "#     writer = csv.writer(f)\n",
    "#     writer.writerow([\"Id\", \"SalePrice\"])\n",
    "#     for k in range(len(ids)):\n",
    "#         writer.writerow([ids[k], test_pred[k][0]])"
   ]
  },
  {
   "cell_type": "code",
   "execution_count": 65,
   "metadata": {},
   "outputs": [],
   "source": [
    "# test_pred = lin_reg0.predict(test_set)\n",
    "# with open('sacreddeer_house_submission_4.csv', 'w', newline='') as f:\n",
    "#     writer = csv.writer(f)\n",
    "#     writer.writerow([\"Id\", \"SalePrice\"])\n",
    "#     for k in range(len(ids)):\n",
    "#         writer.writerow([ids[k], test_pred[k][0]])"
   ]
  },
  {
   "cell_type": "code",
   "execution_count": 66,
   "metadata": {},
   "outputs": [],
   "source": [
    "# test_pred = lin_reg2.predict(test_set)\n",
    "# with open('sacreddeer_house_submission_5.csv', 'w', newline='') as f:\n",
    "#     writer = csv.writer(f)\n",
    "#     writer.writerow([\"Id\", \"SalePrice\"])\n",
    "#     for k in range(len(ids)):\n",
    "#         writer.writerow([ids[k], test_pred[k][0]])"
   ]
  }
 ],
 "metadata": {
  "kernelspec": {
   "display_name": "base",
   "language": "python",
   "name": "python3"
  },
  "language_info": {
   "codemirror_mode": {
    "name": "ipython",
    "version": 3
   },
   "file_extension": ".py",
   "mimetype": "text/x-python",
   "name": "python",
   "nbconvert_exporter": "python",
   "pygments_lexer": "ipython3",
   "version": "3.10.9"
  },
  "orig_nbformat": 4
 },
 "nbformat": 4,
 "nbformat_minor": 2
}
